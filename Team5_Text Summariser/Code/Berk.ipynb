{
  "nbformat": 4,
  "nbformat_minor": 0,
  "metadata": {
    "colab": {
      "name": "Berk.ipynb",
      "provenance": []
    },
    "kernelspec": {
      "name": "python3",
      "display_name": "Python 3"
    }
  },
  "cells": [
    {
      "cell_type": "code",
      "metadata": {
        "id": "_2679oiZbZ0U"
      },
      "source": [
        "!pip install bert-extractive-summarizer\r\n",
        "!pip install spacy==2.1.3\r\n",
        "!pip install transformers==2.2.2\r\n",
        "!pip install neuralcoref\r\n",
        "!python -m spacy download en_core_web_md\r\n",
        "!pip install rapydscript"
      ],
      "execution_count": 1,
      "outputs": []
    },
    {
      "cell_type": "code",
      "metadata": {
        "colab": {
          "base_uri": "https://localhost:8080/"
        },
        "id": "K2bnBMh5beyT",
        "outputId": "0e6b83ea-64b8-4ee2-e342-0fcb0db2652f"
      },
      "source": [
        "from summarizer import Summarizer\r\n",
        "\r\n",
        "body=\"\"\"Greetings from ISTE NITK!\r\n",
        "\r\n",
        "This week with our More You Know series, we bring to you a partially open-source network on nearly all formal research going on around the world.\r\n",
        "\r\n",
        " The Microsoft Academic Knowledge Graph is one of the largest databases containing over 8 Billion triplets of data on researchers,research articles and conferences. It is available for public use through a SparQL endpoint.\r\n",
        "\r\n",
        "Go through our post and see if it excites the Data Analytics enthusiast within you. \r\n",
        "\r\n",
        "https://www.instagram.com/p/CK9JENRA2Fd/\"\"\"\r\n",
        "model = Summarizer()\r\n",
        "result = model(body, min_length=60)\r\n",
        "full = ''.join(result)\r\n",
        "print(full)"
      ],
      "execution_count": 2,
      "outputs": [
        {
          "output_type": "stream",
          "text": [
            "This week with our More You Know series, we bring to you a partially open-source network on nearly all formal research going on around the world. The Microsoft Academic Knowledge Graph is one of the largest databases containing over 8 Billion triplets of data on researchers,research articles and conferences.\n"
          ],
          "name": "stdout"
        }
      ]
    }
  ]
}